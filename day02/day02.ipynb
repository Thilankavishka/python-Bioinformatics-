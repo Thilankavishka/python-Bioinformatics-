{
 "cells": [
  {
   "cell_type": "code",
   "execution_count": 1,
   "id": "885fa9f8-4dcb-4273-86de-e16103b10eba",
   "metadata": {},
   "outputs": [
    {
     "name": "stdout",
     "output_type": "stream",
     "text": [
      "['Thilan', 5, 99.0, 25]\n"
     ]
    }
   ],
   "source": [
    "list = [\"Thilan\",5,99.00,25]\n",
    "print(list)"
   ]
  },
  {
   "cell_type": "code",
   "execution_count": 2,
   "id": "98264a3d-93f6-42ba-8ff1-440cc21ed3bf",
   "metadata": {},
   "outputs": [
    {
     "name": "stdout",
     "output_type": "stream",
     "text": [
      "<class 'list'>\n"
     ]
    }
   ],
   "source": [
    "print(type(list))"
   ]
  },
  {
   "cell_type": "code",
   "execution_count": 3,
   "id": "1cbba8bc-0d86-411d-9981-4e0698b11d44",
   "metadata": {},
   "outputs": [
    {
     "name": "stdout",
     "output_type": "stream",
     "text": [
      "4\n"
     ]
    }
   ],
   "source": [
    "print(len(list))"
   ]
  },
  {
   "cell_type": "code",
   "execution_count": 23,
   "id": "cd5041ee-eea7-4c51-a871-19a9f5ef9f0c",
   "metadata": {},
   "outputs": [
    {
     "name": "stdout",
     "output_type": "stream",
     "text": [
      "[1, 5, 7, 8, 4]\n"
     ]
    }
   ],
   "source": [
    "array = [1,5,7,8,4]\n",
    "print(array)"
   ]
  },
  {
   "cell_type": "code",
   "execution_count": 7,
   "id": "3b76adef-0e4a-4c4b-a7b1-b8b6541962b8",
   "metadata": {},
   "outputs": [
    {
     "name": "stdout",
     "output_type": "stream",
     "text": [
      "1\n",
      "5\n"
     ]
    }
   ],
   "source": [
    "print(array[0])\n",
    "print(array[1])"
   ]
  },
  {
   "cell_type": "code",
   "execution_count": 28,
   "id": "342f5a8c-9efd-47e9-89af-a3408a766701",
   "metadata": {},
   "outputs": [
    {
     "name": "stdout",
     "output_type": "stream",
     "text": [
      "[1, 5, 7, 8, 4, 8, 8]\n"
     ]
    }
   ],
   "source": [
    "array.append(8)\n",
    "print(array)"
   ]
  },
  {
   "cell_type": "code",
   "execution_count": 18,
   "id": "5c53cb84-851b-42ac-86b3-388c266de375",
   "metadata": {},
   "outputs": [
    {
     "data": {
      "text/plain": [
       "[1, 5, 7, 8, 4]"
      ]
     },
     "execution_count": 18,
     "metadata": {},
     "output_type": "execute_result"
    }
   ],
   "source": [
    "array.pop(5)\n",
    "array"
   ]
  },
  {
   "cell_type": "code",
   "execution_count": 20,
   "id": "8d3972e8-a83d-437b-ae64-b5beb1e63c4f",
   "metadata": {},
   "outputs": [
    {
     "data": {
      "text/plain": [
       "[]"
      ]
     },
     "execution_count": 20,
     "metadata": {},
     "output_type": "execute_result"
    }
   ],
   "source": [
    "array.clear()\n",
    "array"
   ]
  },
  {
   "cell_type": "code",
   "execution_count": 24,
   "id": "6a2cdd53-89f1-4172-b4df-44ab2042a146",
   "metadata": {},
   "outputs": [
    {
     "data": {
      "text/plain": [
       "[1, 5, 7, 8, 4]"
      ]
     },
     "execution_count": 24,
     "metadata": {},
     "output_type": "execute_result"
    }
   ],
   "source": [
    "array2 = array.copy()\n",
    "array2"
   ]
  },
  {
   "cell_type": "code",
   "execution_count": 29,
   "id": "fb9c1683-e5b1-422e-92cb-d250d6475460",
   "metadata": {},
   "outputs": [
    {
     "data": {
      "text/plain": [
       "3"
      ]
     },
     "execution_count": 29,
     "metadata": {},
     "output_type": "execute_result"
    }
   ],
   "source": [
    "array\n",
    "array.count(8)"
   ]
  },
  {
   "cell_type": "code",
   "execution_count": 31,
   "id": "b6eef58b-66b4-4cec-b590-b154febfc8e5",
   "metadata": {},
   "outputs": [
    {
     "data": {
      "text/plain": [
       "3"
      ]
     },
     "execution_count": 31,
     "metadata": {},
     "output_type": "execute_result"
    }
   ],
   "source": [
    "array.index(8)"
   ]
  },
  {
   "cell_type": "code",
   "execution_count": 46,
   "id": "b970d20b-96f3-48e8-8c7f-172916c5282b",
   "metadata": {},
   "outputs": [
    {
     "data": {
      "text/plain": [
       "[1, 15, 5, 7, 8, 4, 15, 15]"
      ]
     },
     "execution_count": 46,
     "metadata": {},
     "output_type": "execute_result"
    }
   ],
   "source": [
    "\n",
    "array2.insert(1,15)\n",
    "\n",
    "array2"
   ]
  },
  {
   "cell_type": "code",
   "execution_count": 48,
   "id": "4e0d8f35-af47-45e1-9180-c6a3283ec942",
   "metadata": {},
   "outputs": [
    {
     "data": {
      "text/plain": [
       "[1, 15, 99, 99, 5, 7, 8, 15]"
      ]
     },
     "execution_count": 48,
     "metadata": {},
     "output_type": "execute_result"
    }
   ],
   "source": [
    "array2.pop(6)\n",
    "array2.insert(2,99)\n",
    "array2"
   ]
  },
  {
   "cell_type": "code",
   "execution_count": 52,
   "id": "b915ec0f-b22d-4a6a-b957-b3887022c403",
   "metadata": {},
   "outputs": [
    {
     "data": {
      "text/plain": [
       "[99, 5, 7, 8]"
      ]
     },
     "execution_count": 52,
     "metadata": {},
     "output_type": "execute_result"
    }
   ],
   "source": [
    "array2.remove(99)\n",
    "array2"
   ]
  },
  {
   "cell_type": "code",
   "execution_count": 54,
   "id": "a4e507d2-07d7-4bcb-ac17-759c1a889443",
   "metadata": {},
   "outputs": [
    {
     "data": {
      "text/plain": [
       "[1, 2, 2, 4, 5, 5, 5, 7, 8, 8, 41]"
      ]
     },
     "execution_count": 54,
     "metadata": {},
     "output_type": "execute_result"
    }
   ],
   "source": [
    "array3 = [4,5,8,7,2,5,41,2,5,8,1]\n",
    "array3.sort()\n",
    "array3\n"
   ]
  },
  {
   "cell_type": "code",
   "execution_count": 56,
   "id": "26863c3f-8cda-4ed2-98db-e10b6531c827",
   "metadata": {},
   "outputs": [
    {
     "name": "stdout",
     "output_type": "stream",
     "text": [
      "[ 1  2  5  7 84  1  4]\n"
     ]
    }
   ],
   "source": [
    "import numpy as np\n",
    "arr = np.array([1,2,5,7,84,1,4])\n",
    "print(arr)"
   ]
  },
  {
   "cell_type": "code",
   "execution_count": 63,
   "id": "544d0bde-bdec-4b73-88db-1a750eb7c70d",
   "metadata": {},
   "outputs": [
    {
     "name": "stdout",
     "output_type": "stream",
     "text": [
      "[[0. 0. 0. 0.]\n",
      " [0. 0. 0. 0.]\n",
      " [0. 0. 0. 0.]]\n"
     ]
    }
   ],
   "source": [
    "zeros = np.zeros((3,4))\n",
    "print(zeros)"
   ]
  },
  {
   "cell_type": "code",
   "execution_count": 68,
   "id": "bf8de117-0c4a-4917-b5cc-9d18ab103701",
   "metadata": {},
   "outputs": [
    {
     "name": "stdout",
     "output_type": "stream",
     "text": [
      "5\n"
     ]
    }
   ],
   "source": [
    "matrix = np.array([[4,7,8,5],[5,8,4,2]])\n",
    "print(matrix[1][0])"
   ]
  },
  {
   "cell_type": "code",
   "execution_count": 100,
   "id": "304c34b9-aa60-4e56-80a4-adb0d22da43e",
   "metadata": {},
   "outputs": [
    {
     "name": "stdout",
     "output_type": "stream",
     "text": [
      "[0 3 6 9]\n"
     ]
    }
   ],
   "source": [
    "ranges = np.arange(0,10,3)\n",
    "print(ranges)"
   ]
  },
  {
   "cell_type": "code",
   "execution_count": 96,
   "id": "f5191a17-cf17-43ce-9598-a04925b1a5a3",
   "metadata": {},
   "outputs": [
    {
     "name": "stdout",
     "output_type": "stream",
     "text": [
      "[ 0.    1.25  2.5   3.75  5.    6.25  7.5   8.75 10.  ]\n"
     ]
    }
   ],
   "source": [
    "line_space = np.linspace(0,10,9)\n",
    "print(line_space)"
   ]
  },
  {
   "cell_type": "code",
   "execution_count": 97,
   "id": "7ed84ada-81cf-4dea-94f3-e1c7146e9f2d",
   "metadata": {},
   "outputs": [
    {
     "name": "stdout",
     "output_type": "stream",
     "text": [
      "[[0.59793084 0.22881675 0.80603201]\n",
      " [0.65195834 0.09388219 0.95338794]\n",
      " [0.06745877 0.88809698 0.31531677]]\n"
     ]
    }
   ],
   "source": [
    "random = np.random.rand(3, 3)\n",
    "print(random)"
   ]
  },
  {
   "cell_type": "code",
   "execution_count": 101,
   "id": "c022c42e-040a-491b-9e67-04d18d7a210a",
   "metadata": {},
   "outputs": [
    {
     "name": "stdout",
     "output_type": "stream",
     "text": [
      "[[0, 1, 2], [0, 1, 2], [0, 1, 2]]\n"
     ]
    }
   ],
   "source": [
    "rows=3\n",
    "cols=3\n",
    "list_of_list=[[j for j in range(cols)]for i in range(rows)]\n",
    "print(list_of_list)"
   ]
  },
  {
   "cell_type": "code",
   "execution_count": 103,
   "id": "75bf7e28-bf30-491e-ade4-8347637e6d1d",
   "metadata": {},
   "outputs": [
    {
     "name": "stdout",
     "output_type": "stream",
     "text": [
      "[[[ 1  4  5  7]\n",
      "  [ 7  5  8  4]\n",
      "  [ 9  6  3  2]]\n",
      "\n",
      " [[ 1  5  8  4]\n",
      "  [75  5  8  4]\n",
      "  [ 9  6  3  2]]]\n"
     ]
    }
   ],
   "source": [
    "arr3 = np.array([\n",
    "[[1,4,5,7],[7,5,8,4],[9,6,3,2]],\n",
    "[[1,5,8,4],[75,5,8,4],[9,6,3,2]] \n",
    "    \n",
    "])\n",
    "print(arr3)"
   ]
  },
  {
   "cell_type": "code",
   "execution_count": 104,
   "id": "e5cb5a48-6b92-4c77-8b81-9c1fd895252f",
   "metadata": {},
   "outputs": [
    {
     "name": "stdout",
     "output_type": "stream",
     "text": [
      "[[0, 1, 2], [0, 1, 2], [0, 1, 2]]\n"
     ]
    }
   ],
   "source": [
    "import numpy as np\n",
    "rows=3\n",
    "cols=3\n",
    "new=3\n",
    "list_of_list=[[j for j in range(cols)]or i in range(rows)for k in range(new)]\n",
    "print(list_of_list)"
   ]
  },
  {
   "cell_type": "code",
   "execution_count": 113,
   "id": "f13840dd-9043-47af-88e8-649d3e8d00ee",
   "metadata": {},
   "outputs": [
    {
     "name": "stdout",
     "output_type": "stream",
     "text": [
      "[[[1 2]\n",
      "  [3 4]]\n",
      "\n",
      " [[1 2]\n",
      "  [3 4]]\n",
      "\n",
      " [[1 8]\n",
      "  [7 4]]]\n"
     ]
    }
   ],
   "source": [
    "array_1=[[1,2],[3,4]]\n",
    "array_2=[[1,2],[3,4]]\n",
    "array_3=[[1,8],[7,4]]\n",
    "arr_3D = np.array([array_1,array_2,array_3])\n",
    "print(arr_3D)"
   ]
  },
  {
   "cell_type": "code",
   "execution_count": 115,
   "id": "87b10c51-04b5-47a0-9466-03b24f59e17c",
   "metadata": {},
   "outputs": [
    {
     "name": "stdout",
     "output_type": "stream",
     "text": [
      "[[[1 2]\n",
      "  [3 4]]\n",
      "\n",
      " [[1 2]\n",
      "  [3 4]]\n",
      "\n",
      " [[1 8]\n",
      "  [7 4]]\n",
      "\n",
      " [[1 7]\n",
      "  [6 3]]]\n"
     ]
    }
   ],
   "source": [
    "array_1=[[1,2],[3,4]]\n",
    "array_2=[[1,2],[3,4]]\n",
    "array_3=[[1,8],[7,4]]\n",
    "array_4=[[1,7],[6,3]]\n",
    "arr_4D = np.array([array_1,array_2,array_3,array_4])\n",
    "print(arr_4D)"
   ]
  },
  {
   "cell_type": "code",
   "execution_count": 131,
   "id": "89f234f5-90a1-4440-8f2c-1eb583acdc3a",
   "metadata": {},
   "outputs": [
    {
     "data": {
      "text/plain": [
       "[[[[0, 1, 2], [0, 1, 2], [0, 1, 2]],\n",
       "  [[0, 1, 2], [0, 1, 2], [0, 1, 2]],\n",
       "  [[0, 1, 2], [0, 1, 2], [0, 1, 2]],\n",
       "  [[0, 1, 2], [0, 1, 2], [0, 1, 2]]],\n",
       " [[[0, 1, 2], [0, 1, 2], [0, 1, 2]],\n",
       "  [[0, 1, 2], [0, 1, 2], [0, 1, 2]],\n",
       "  [[0, 1, 2], [0, 1, 2], [0, 1, 2]],\n",
       "  [[0, 1, 2], [0, 1, 2], [0, 1, 2]]],\n",
       " [[[0, 1, 2], [0, 1, 2], [0, 1, 2]],\n",
       "  [[0, 1, 2], [0, 1, 2], [0, 1, 2]],\n",
       "  [[0, 1, 2], [0, 1, 2], [0, 1, 2]],\n",
       "  [[0, 1, 2], [0, 1, 2], [0, 1, 2]]],\n",
       " [[[0, 1, 2], [0, 1, 2], [0, 1, 2]],\n",
       "  [[0, 1, 2], [0, 1, 2], [0, 1, 2]],\n",
       "  [[0, 1, 2], [0, 1, 2], [0, 1, 2]],\n",
       "  [[0, 1, 2], [0, 1, 2], [0, 1, 2]]]]"
      ]
     },
     "execution_count": 131,
     "metadata": {},
     "output_type": "execute_result"
    }
   ],
   "source": [
    "list_of_list = [[[[j for j in range(3)]for i in range(3)]for n in range(4)]for b in range(4)]\n",
    "list_of_list"
   ]
  },
  {
   "cell_type": "code",
   "execution_count": 135,
   "id": "7001d373-cbae-4034-842c-98726adabb8a",
   "metadata": {},
   "outputs": [
    {
     "name": "stdout",
     "output_type": "stream",
     "text": [
      "[ 0.  2.  4.  6.  8. 10.]\n"
     ]
    }
   ],
   "source": [
    "#Exersize\n",
    "#1\n",
    "#create an evenly spaced array of numbers based on given start and stop values\n",
    "\n",
    "evenly_array = np.linspace(0,10,6)\n",
    "print(evenly_array)"
   ]
  },
  {
   "cell_type": "code",
   "execution_count": 136,
   "id": "b3dd4ce2-1bc9-43e9-a1e6-97993483198e",
   "metadata": {},
   "outputs": [
    {
     "data": {
      "text/plain": [
       "array([[0., 0., 0., 0.],\n",
       "       [0., 0., 0., 0.],\n",
       "       [0., 0., 0., 0.]])"
      ]
     },
     "execution_count": 136,
     "metadata": {},
     "output_type": "execute_result"
    }
   ],
   "source": [
    "#2\n",
    "#create an array of zeros that be filled with data later\n",
    "zerosss = np.zeros((3,4))\n",
    "zerosss"
   ]
  },
  {
   "cell_type": "code",
   "execution_count": 138,
   "id": "f475a165-91c7-4a01-9f75-142f3f97656b",
   "metadata": {},
   "outputs": [
    {
     "data": {
      "text/plain": [
       "array([[1., 1., 1., 1., 1.],\n",
       "       [1., 1., 1., 1., 1.],\n",
       "       [1., 1., 1., 1., 1.],\n",
       "       [1., 1., 1., 1., 1.],\n",
       "       [1., 1., 1., 1., 1.]])"
      ]
     },
     "execution_count": 138,
     "metadata": {},
     "output_type": "execute_result"
    }
   ],
   "source": [
    "#3\n",
    "#create an array of ones\n",
    "ones = np.ones((5,5))\n",
    "ones"
   ]
  },
  {
   "cell_type": "code",
   "execution_count": 140,
   "id": "5ad24d10-e775-44b3-abbb-73a78b2111ce",
   "metadata": {},
   "outputs": [
    {
     "name": "stdout",
     "output_type": "stream",
     "text": [
      "[[0.51369713 0.40218018 0.51789445]\n",
      " [0.28595291 0.89155665 0.69927509]\n",
      " [0.5722256  0.3242218  0.40869489]]\n"
     ]
    }
   ],
   "source": [
    "#4\n",
    "#create array of rando, floats between zero and one\n",
    "ra = np.random.rand(3,3)\n",
    "print(ra)"
   ]
  },
  {
   "cell_type": "code",
   "execution_count": 208,
   "id": "d916d507-7bf4-4b14-bc49-1fbeb0390fdd",
   "metadata": {},
   "outputs": [
    {
     "name": "stdout",
     "output_type": "stream",
     "text": [
      "First_Element 1\n",
      "Second_Element 2\n",
      "Range_from 1 to 3: [1, 2, 3]\n",
      "Range_from 2nd element: [2, 3, 4, 5]\n",
      "Range_from index 2: [3, 4, 5]\n"
     ]
    }
   ],
   "source": [
    "#5\n",
    "#create 1D array and insert the values 1,2,3,4,5 and access the following elements\n",
    "#1st\n",
    "#second\n",
    "#range of elements from 1 to 3rd\n",
    "#range of elements from 2nd element\n",
    "#range of elements from index=2\n",
    "\n",
    "array1d = [1,2,3,4,5]\n",
    "print(\"First_Element\",array1d[0])\n",
    "print(\"Second_Element\",array1d[1])\n",
    "print(\"Range_from 1 to 3:\",array1d[:3])\n",
    "print(\"Range_from 2nd element:\",array1d[1:])\n",
    "print(\"Range_from index 2:\",array1d[2:])"
   ]
  },
  {
   "cell_type": "code",
   "execution_count": 184,
   "id": "f123f91b-f2c0-4b4f-a380-92cd767b5bbf",
   "metadata": {},
   "outputs": [
    {
     "name": "stdout",
     "output_type": "stream",
     "text": [
      "First_row and Second Column Element: 2\n",
      "Second_row Element: [7, 8, 59, 10, 11, 12]\n",
      "Third_Column Element: [3, 59, 15]\n",
      "Range_of_Elements: [[2, 3], [8, 59]]\n"
     ]
    }
   ],
   "source": [
    "#6create 2d array and try to access following elements\n",
    "#1 row 2nd column element\n",
    "#2nd row elements\n",
    "#3rd column elements\n",
    "#range of elements in 1st and 2nd row with 2nd and 3rd column\n",
    "\n",
    "arr2d = [[1,2,3,4,5,6],[7,8,59,10,11,12],[13,14,15,16,17,18]]\n",
    "print(\"First_row and Second Column Element:\",arr2d[0][1])\n",
    "print(\"Second_row Element:\",arr2d[1])\n",
    "print(\"Third_Column Element:\",[i[2] for i in arr2d])\n",
    "print(\"Range_of_Elements:\",[i[1:3] for i in arr2d[0:2]])"
   ]
  },
  {
   "cell_type": "code",
   "execution_count": 209,
   "id": "d58321c6-cfe6-4618-bc33-afccaf09dd36",
   "metadata": {},
   "outputs": [
    {
     "name": "stdout",
     "output_type": "stream",
     "text": [
      "[ 1  2  4  5 71 88]\n"
     ]
    }
   ],
   "source": [
    "#7\n",
    "#create a 1D array mamke it within order by axis wise\n",
    "\n",
    "x = np.array([88,2,5,4,71,1])\n",
    "print(np.sort(x))\n"
   ]
  },
  {
   "cell_type": "code",
   "execution_count": 210,
   "id": "50a5cc66-c2ad-422e-9e1c-c4d905f5e2f2",
   "metadata": {},
   "outputs": [
    {
     "name": "stdin",
     "output_type": "stream",
     "text": [
      "Enter number of elements: 5\n",
      "Enter element 1: 1\n",
      "Enter element 2: 9\n",
      "Enter element 3: 2\n",
      "Enter element 4: 5\n",
      "Enter element 5: 3\n"
     ]
    },
    {
     "name": "stdout",
     "output_type": "stream",
     "text": [
      "Your Array is: [1, 9, 2, 5, 3]\n",
      "Grater_than_5_elements list: [9]\n"
     ]
    }
   ],
   "source": [
    "#8\n",
    "#read 1D array and insert the values 1,9,2,5,3 and check whether the elements in array are grater than 5. and print those element as seperate list\n",
    "\n",
    "x = int(input(\"Enter number of elements:\"))\n",
    "\n",
    "arr = []\n",
    "\n",
    "for i in range(x):\n",
    "    element = int(input(f\"Enter element {i+1}:\"))\n",
    "    arr.append(element)\n",
    "\n",
    "print(\"Your Array is:\",arr)\n",
    "\n",
    "grater_list = []\n",
    "for i in arr:\n",
    "    if i > 5:\n",
    "        grater_list.append(i)     \n",
    "\n",
    "print(\"Grater_than_5_elements list:\",grater_list)\n"
   ]
  },
  {
   "cell_type": "code",
   "execution_count": 211,
   "id": "f99405ab-a3e6-4ecb-98f4-aaca778393aa",
   "metadata": {},
   "outputs": [],
   "source": [
    "#9 \n",
    "#create 1D array and insert values from 0 to 20 within 3 gap space and find the values which are divide by 2. and \n",
    "#replace 0 in array which are not satisfied the condition"
   ]
  },
  {
   "cell_type": "code",
   "execution_count": 222,
   "id": "96e55ce0-0fd3-4449-88d5-01462970d90f",
   "metadata": {},
   "outputs": [
    {
     "name": "stdout",
     "output_type": "stream",
     "text": [
      "[ 0  3  6  9 12 15 18]\n",
      "Divided_List: [0, 6, 12, 18]\n"
     ]
    }
   ],
   "source": [
    "arr_space = np.arange(0,20,3)\n",
    "print(arr_space)\n",
    "\n",
    "divide_list = []\n",
    "for i in arr_space:\n",
    "   if i%2 == 0:\n",
    "       divide_list.append(int(i))\n",
    "\n",
    "print(\"Divided_List:\",divide_list)\n"
   ]
  },
  {
   "cell_type": "code",
   "execution_count": null,
   "id": "fd02fadf-644c-4de0-a1a3-44e4bf713cdc",
   "metadata": {},
   "outputs": [],
   "source": []
  }
 ],
 "metadata": {
  "kernelspec": {
   "display_name": "Python 3 (ipykernel)",
   "language": "python",
   "name": "python3"
  },
  "language_info": {
   "codemirror_mode": {
    "name": "ipython",
    "version": 3
   },
   "file_extension": ".py",
   "mimetype": "text/x-python",
   "name": "python",
   "nbconvert_exporter": "python",
   "pygments_lexer": "ipython3",
   "version": "3.13.7"
  }
 },
 "nbformat": 4,
 "nbformat_minor": 5
}
