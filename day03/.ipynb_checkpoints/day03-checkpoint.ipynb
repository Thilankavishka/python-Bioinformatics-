{
 "cells": [
  {
   "cell_type": "code",
   "execution_count": 21,
   "id": "c185778b-ef89-41f4-b634-ac3275361043",
   "metadata": {},
   "outputs": [
    {
     "name": "stdout",
     "output_type": "stream",
     "text": [
      "0    1\n",
      "1    2\n",
      "2    3\n",
      "dtype: int64\n"
     ]
    }
   ],
   "source": [
    "import pandas as pd\n",
    "s1 = pd.Series([1,2,3])\n",
    "print(s1)"
   ]
  },
  {
   "cell_type": "code",
   "execution_count": 23,
   "id": "c07f90b7-ac37-4162-811a-05014f126bd5",
   "metadata": {},
   "outputs": [
    {
     "data": {
      "text/html": [
       "<div>\n",
       "<style scoped>\n",
       "    .dataframe tbody tr th:only-of-type {\n",
       "        vertical-align: middle;\n",
       "    }\n",
       "\n",
       "    .dataframe tbody tr th {\n",
       "        vertical-align: top;\n",
       "    }\n",
       "\n",
       "    .dataframe thead th {\n",
       "        text-align: right;\n",
       "    }\n",
       "</style>\n",
       "<table border=\"1\" class=\"dataframe\">\n",
       "  <thead>\n",
       "    <tr style=\"text-align: right;\">\n",
       "      <th></th>\n",
       "      <th>col1</th>\n",
       "      <th>col2</th>\n",
       "    </tr>\n",
       "  </thead>\n",
       "  <tbody>\n",
       "    <tr>\n",
       "      <th>0</th>\n",
       "      <td>1</td>\n",
       "      <td>3</td>\n",
       "    </tr>\n",
       "    <tr>\n",
       "      <th>1</th>\n",
       "      <td>2</td>\n",
       "      <td>4</td>\n",
       "    </tr>\n",
       "  </tbody>\n",
       "</table>\n",
       "</div>"
      ],
      "text/plain": [
       "   col1  col2\n",
       "0     1     3\n",
       "1     2     4"
      ]
     },
     "execution_count": 23,
     "metadata": {},
     "output_type": "execute_result"
    }
   ],
   "source": [
    "df = pd.DataFrame({\"col1\":[1,2],\"col2\":[3,4]})\n",
    "df"
   ]
  },
  {
   "cell_type": "code",
   "execution_count": 18,
   "id": "86d7eb24-79a2-4c36-8627-25654b97f00f",
   "metadata": {},
   "outputs": [
    {
     "data": {
      "text/plain": [
       "b    1\n",
       "c    2\n",
       "d    3\n",
       "dtype: int64"
      ]
     },
     "execution_count": 18,
     "metadata": {},
     "output_type": "execute_result"
    }
   ],
   "source": [
    "s2 = pd.Series([1,2,3],index=['b','c','d'])\n",
    "s2"
   ]
  },
  {
   "cell_type": "code",
   "execution_count": 19,
   "id": "f2fe4b5d-0cf5-4a4b-b5f4-88fec7200c9e",
   "metadata": {},
   "outputs": [
    {
     "data": {
      "text/html": [
       "<div>\n",
       "<style scoped>\n",
       "    .dataframe tbody tr th:only-of-type {\n",
       "        vertical-align: middle;\n",
       "    }\n",
       "\n",
       "    .dataframe tbody tr th {\n",
       "        vertical-align: top;\n",
       "    }\n",
       "\n",
       "    .dataframe thead th {\n",
       "        text-align: right;\n",
       "    }\n",
       "</style>\n",
       "<table border=\"1\" class=\"dataframe\">\n",
       "  <thead>\n",
       "    <tr style=\"text-align: right;\">\n",
       "      <th></th>\n",
       "      <th>name</th>\n",
       "      <th>Age</th>\n",
       "    </tr>\n",
       "  </thead>\n",
       "  <tbody>\n",
       "    <tr>\n",
       "      <th>0</th>\n",
       "      <td>alice</td>\n",
       "      <td>25</td>\n",
       "    </tr>\n",
       "    <tr>\n",
       "      <th>1</th>\n",
       "      <td>thilan</td>\n",
       "      <td>30</td>\n",
       "    </tr>\n",
       "    <tr>\n",
       "      <th>2</th>\n",
       "      <td>pasindu</td>\n",
       "      <td>55</td>\n",
       "    </tr>\n",
       "  </tbody>\n",
       "</table>\n",
       "</div>"
      ],
      "text/plain": [
       "      name  Age\n",
       "0    alice   25\n",
       "1   thilan   30\n",
       "2  pasindu   55"
      ]
     },
     "execution_count": 19,
     "metadata": {},
     "output_type": "execute_result"
    }
   ],
   "source": [
    "df1 = pd.DataFrame({'name':['alice','thilan','pasindu'],'Age':[25,30,55]})\n",
    "df1"
   ]
  },
  {
   "cell_type": "code",
   "execution_count": 29,
   "id": "fd031ba6-828c-4c11-8ee3-1a6f7a882fa3",
   "metadata": {},
   "outputs": [
    {
     "data": {
      "text/html": [
       "<div>\n",
       "<style scoped>\n",
       "    .dataframe tbody tr th:only-of-type {\n",
       "        vertical-align: middle;\n",
       "    }\n",
       "\n",
       "    .dataframe tbody tr th {\n",
       "        vertical-align: top;\n",
       "    }\n",
       "\n",
       "    .dataframe thead th {\n",
       "        text-align: right;\n",
       "    }\n",
       "</style>\n",
       "<table border=\"1\" class=\"dataframe\">\n",
       "  <thead>\n",
       "    <tr style=\"text-align: right;\">\n",
       "      <th></th>\n",
       "      <th>colA</th>\n",
       "      <th>colB</th>\n",
       "      <th>colC</th>\n",
       "    </tr>\n",
       "  </thead>\n",
       "  <tbody>\n",
       "    <tr>\n",
       "      <th>row1</th>\n",
       "      <td>1</td>\n",
       "      <td>2</td>\n",
       "      <td>3</td>\n",
       "    </tr>\n",
       "    <tr>\n",
       "      <th>row2</th>\n",
       "      <td>4</td>\n",
       "      <td>3</td>\n",
       "      <td>5</td>\n",
       "    </tr>\n",
       "    <tr>\n",
       "      <th>row3</th>\n",
       "      <td>8</td>\n",
       "      <td>4</td>\n",
       "      <td>7</td>\n",
       "    </tr>\n",
       "  </tbody>\n",
       "</table>\n",
       "</div>"
      ],
      "text/plain": [
       "      colA  colB  colC\n",
       "row1     1     2     3\n",
       "row2     4     3     5\n",
       "row3     8     4     7"
      ]
     },
     "execution_count": 29,
     "metadata": {},
     "output_type": "execute_result"
    }
   ],
   "source": [
    "df2 = pd.DataFrame([{'colA':1,'colB':2,'colC':3},{'colA':4,'colB':3,'colC':5},{'colA':8,'colB':4,'colC':7}],index = ['row1','row2','row3'])\n",
    "df2"
   ]
  },
  {
   "cell_type": "code",
   "execution_count": 35,
   "id": "1d041ec2-7eda-4943-a1db-a23f98f7e82d",
   "metadata": {},
   "outputs": [
    {
     "data": {
      "text/html": [
       "<div>\n",
       "<style scoped>\n",
       "    .dataframe tbody tr th:only-of-type {\n",
       "        vertical-align: middle;\n",
       "    }\n",
       "\n",
       "    .dataframe tbody tr th {\n",
       "        vertical-align: top;\n",
       "    }\n",
       "\n",
       "    .dataframe thead th {\n",
       "        text-align: right;\n",
       "    }\n",
       "</style>\n",
       "<table border=\"1\" class=\"dataframe\">\n",
       "  <thead>\n",
       "    <tr style=\"text-align: right;\">\n",
       "      <th></th>\n",
       "      <th>cl1</th>\n",
       "    </tr>\n",
       "  </thead>\n",
       "  <tbody>\n",
       "    <tr>\n",
       "      <th>a</th>\n",
       "      <td>1</td>\n",
       "    </tr>\n",
       "    <tr>\n",
       "      <th>b</th>\n",
       "      <td>2</td>\n",
       "    </tr>\n",
       "  </tbody>\n",
       "</table>\n",
       "</div>"
      ],
      "text/plain": [
       "   cl1\n",
       "a    1\n",
       "b    2"
      ]
     },
     "execution_count": 35,
     "metadata": {},
     "output_type": "execute_result"
    }
   ],
   "source": [
    "df1 = pd.DataFrame([1,2,5],index=['a','b','c'],columns=['cl1'])\n",
    "df2 = pd.DataFrame(df1,index=['a','b'])\n",
    "df2"
   ]
  },
  {
   "cell_type": "code",
   "execution_count": 38,
   "id": "cd94a47b-f290-4a39-a300-4a0d1eac75a7",
   "metadata": {},
   "outputs": [
    {
     "data": {
      "text/html": [
       "<div>\n",
       "<style scoped>\n",
       "    .dataframe tbody tr th:only-of-type {\n",
       "        vertical-align: middle;\n",
       "    }\n",
       "\n",
       "    .dataframe tbody tr th {\n",
       "        vertical-align: top;\n",
       "    }\n",
       "\n",
       "    .dataframe thead th {\n",
       "        text-align: right;\n",
       "    }\n",
       "</style>\n",
       "<table border=\"1\" class=\"dataframe\">\n",
       "  <thead>\n",
       "    <tr style=\"text-align: right;\">\n",
       "      <th></th>\n",
       "      <th>id</th>\n",
       "      <th>name</th>\n",
       "      <th>age</th>\n",
       "    </tr>\n",
       "  </thead>\n",
       "  <tbody>\n",
       "    <tr>\n",
       "      <th>0</th>\n",
       "      <td>1</td>\n",
       "      <td>thila</td>\n",
       "      <td>25</td>\n",
       "    </tr>\n",
       "    <tr>\n",
       "      <th>1</th>\n",
       "      <td>2</td>\n",
       "      <td>pasan</td>\n",
       "      <td>25</td>\n",
       "    </tr>\n",
       "  </tbody>\n",
       "</table>\n",
       "</div>"
      ],
      "text/plain": [
       "   id   name  age\n",
       "0   1  thila   25\n",
       "1   2  pasan   25"
      ]
     },
     "execution_count": 38,
     "metadata": {},
     "output_type": "execute_result"
    }
   ],
   "source": [
    "list_of_tuples = [(1,'thila',25),(2,'pasan',25)]\n",
    "x = pd.DataFrame(list_of_tuples,columns = ['id','name','age'])\n",
    "x"
   ]
  },
  {
   "cell_type": "code",
   "execution_count": 43,
   "id": "e72e5203-702b-49f9-83ac-a91bb091ff57",
   "metadata": {},
   "outputs": [
    {
     "name": "stdout",
     "output_type": "stream",
     "text": [
      "      name  age\n",
      "0   thilan   24\n",
      "1  pasindu   55\n",
      "2  kavindu   44\n"
     ]
    }
   ],
   "source": [
    "list1 = ['thilan','pasindu','kavindu']\n",
    "list2 = [24,55,44,88]\n",
    "tupples = list(zip(list1,list2))\n",
    "df4 = pd.DataFrame(tupples,columns=[\"name\",\"age\"])\n",
    "print(df4)"
   ]
  },
  {
   "cell_type": "code",
   "execution_count": 57,
   "id": "7052c833-3138-467d-9c29-fb8fe113088b",
   "metadata": {},
   "outputs": [
    {
     "name": "stdout",
     "output_type": "stream",
     "text": [
      "      name  age\n",
      "0   thilan   24\n",
      "1  pasindu   55\n",
      "2  kavindu   44\n",
      "#######################\n",
      "<class 'pandas.core.frame.DataFrame'>\n",
      "RangeIndex: 3 entries, 0 to 2\n",
      "Data columns (total 2 columns):\n",
      " #   Column  Non-Null Count  Dtype \n",
      "---  ------  --------------  ----- \n",
      " 0   name    3 non-null      object\n",
      " 1   age     3 non-null      int64 \n",
      "dtypes: int64(1), object(1)\n",
      "memory usage: 180.0+ bytes\n",
      "None\n",
      "#######################\n",
      "(3, 2)\n",
      "#######################\n",
      "             age\n",
      "count   3.000000\n",
      "mean   41.000000\n",
      "std    15.716234\n",
      "min    24.000000\n",
      "25%    34.000000\n",
      "50%    44.000000\n",
      "75%    49.500000\n",
      "max    55.000000\n",
      "#######################\n",
      "Index(['name', 'age'], dtype='object')\n",
      "#######################\n",
      "RangeIndex(start=0, stop=3, step=1)\n",
      "#######################\n",
      "[['thilan' 24]\n",
      " ['pasindu' 55]\n",
      " ['kavindu' 44]]\n",
      "#######################\n"
     ]
    }
   ],
   "source": [
    "print(df4.head())\n",
    "print(\"#######################\")\n",
    "print(df4.info())\n",
    "print(\"#######################\")\n",
    "print(df4.shape)\n",
    "print(\"#######################\")\n",
    "print(df4.describe())\n",
    "print(\"#######################\")\n",
    "print(df4.columns)\n",
    "print(\"#######################\")\n",
    "print(df4.index)\n",
    "print(\"#######################\")\n",
    "print(df4.values)\n",
    "print(\"#######################\")"
   ]
  },
  {
   "cell_type": "code",
   "execution_count": 59,
   "id": "ebdc3417-9914-476b-93ea-bc9c77ad6906",
   "metadata": {},
   "outputs": [
    {
     "data": {
      "text/html": [
       "<div>\n",
       "<style scoped>\n",
       "    .dataframe tbody tr th:only-of-type {\n",
       "        vertical-align: middle;\n",
       "    }\n",
       "\n",
       "    .dataframe tbody tr th {\n",
       "        vertical-align: top;\n",
       "    }\n",
       "\n",
       "    .dataframe thead th {\n",
       "        text-align: right;\n",
       "    }\n",
       "</style>\n",
       "<table border=\"1\" class=\"dataframe\">\n",
       "  <thead>\n",
       "    <tr style=\"text-align: right;\">\n",
       "      <th></th>\n",
       "      <th>Name</th>\n",
       "      <th>Age</th>\n",
       "      <th>Score</th>\n",
       "      <th>City</th>\n",
       "    </tr>\n",
       "  </thead>\n",
       "  <tbody>\n",
       "    <tr>\n",
       "      <th>0</th>\n",
       "      <td>Alice</td>\n",
       "      <td>25</td>\n",
       "      <td>85</td>\n",
       "      <td>NewYork</td>\n",
       "    </tr>\n",
       "    <tr>\n",
       "      <th>1</th>\n",
       "      <td>Bob</td>\n",
       "      <td>30</td>\n",
       "      <td>70</td>\n",
       "      <td>Los_Angles</td>\n",
       "    </tr>\n",
       "    <tr>\n",
       "      <th>2</th>\n",
       "      <td>Charlie</td>\n",
       "      <td>22</td>\n",
       "      <td>90</td>\n",
       "      <td>Frankfrut</td>\n",
       "    </tr>\n",
       "    <tr>\n",
       "      <th>3</th>\n",
       "      <td>David</td>\n",
       "      <td>28</td>\n",
       "      <td>80</td>\n",
       "      <td>London</td>\n",
       "    </tr>\n",
       "    <tr>\n",
       "      <th>4</th>\n",
       "      <td>Kari</td>\n",
       "      <td>19</td>\n",
       "      <td>75</td>\n",
       "      <td>Oslo</td>\n",
       "    </tr>\n",
       "    <tr>\n",
       "      <th>5</th>\n",
       "      <td>Amilie</td>\n",
       "      <td>22</td>\n",
       "      <td>77</td>\n",
       "      <td>Barcelona</td>\n",
       "    </tr>\n",
       "    <tr>\n",
       "      <th>6</th>\n",
       "      <td>Daminan</td>\n",
       "      <td>27</td>\n",
       "      <td>82</td>\n",
       "      <td>Frankfrut</td>\n",
       "    </tr>\n",
       "  </tbody>\n",
       "</table>\n",
       "</div>"
      ],
      "text/plain": [
       "      Name  Age  Score        City\n",
       "0    Alice   25     85     NewYork\n",
       "1      Bob   30     70  Los_Angles\n",
       "2  Charlie   22     90   Frankfrut\n",
       "3    David   28     80      London\n",
       "4     Kari   19     75        Oslo\n",
       "5   Amilie   22     77   Barcelona\n",
       "6  Daminan   27     82   Frankfrut"
      ]
     },
     "execution_count": 59,
     "metadata": {},
     "output_type": "execute_result"
    }
   ],
   "source": [
    "list1 = [\"Alice\",\"Bob\",\"Charlie\",\"David\",\"Kari\",\"Amilie\",\"Daminan\"]\n",
    "list2 = [25,30,22,28,19,22,27]\n",
    "list3 = [85,70,90,80,75,77,82]\n",
    "list4 = [\"NewYork\",\"Los_Angles\",\"Frankfrut\",\"London\",\"Oslo\",\"Barcelona\",\"Frankfrut\"]\n",
    "\n",
    "\n",
    "list_of_tuples = list(zip(list1,list2,list3,list4))\n",
    "\n",
    "df5 = pd.DataFrame(list_of_tuples,columns = [\"Name\",\"Age\",\"Score\",\"City\"]) \n",
    "df5"
   ]
  },
  {
   "cell_type": "code",
   "execution_count": 63,
   "id": "939ef19a-84b3-45da-a096-137ee99eed56",
   "metadata": {},
   "outputs": [
    {
     "name": "stdout",
     "output_type": "stream",
     "text": [
      "      Name  Age  Score        City\n",
      "0    Alice   25     85     NewYork\n",
      "1      Bob   30     70  Los_Angles\n",
      "2  Charlie   22     90   Frankfrut\n",
      "3    David   28     80      London\n",
      "4     Kari   19     75        Oslo\n",
      "5   Amilie   22     77   Barcelona\n",
      "6  Daminan   27     82   Frankfrut\n"
     ]
    }
   ],
   "source": [
    "datas = [(\"Alice\",25,85,\"NewYork\"),(\"Bob\",30,70,\"Los_Angles\"),(\"Charlie\",22,90,\"Frankfrut\"),(\"David\",28,80,\"London\"),(\"Kari\",19,75,\"Oslo\")\n",
    "        ,(\"Amilie\",22,77,\"Barcelona\"),(\"Daminan\",27,82,\"Frankfrut\")]\n",
    "\n",
    "df6 = pd.DataFrame(datas,columns = [\"Name\",\"Age\",\"Score\",\"City\"])\n",
    "print(df6)"
   ]
  },
  {
   "cell_type": "code",
   "execution_count": 71,
   "id": "2baccfef-b221-41e4-b5ce-d784cadb8c33",
   "metadata": {},
   "outputs": [
    {
     "name": "stdout",
     "output_type": "stream",
     "text": [
      "0      Alice\n",
      "1        Bob\n",
      "2    Charlie\n",
      "3      David\n",
      "4       Kari\n",
      "5     Amilie\n",
      "6    Daminan\n",
      "Name: Name, dtype: object\n",
      "######################\n",
      "      Name  Score\n",
      "0    Alice     85\n",
      "1      Bob     70\n",
      "2  Charlie     90\n",
      "3    David     80\n",
      "4     Kari     75\n",
      "5   Amilie     77\n",
      "6  Daminan     82\n",
      "######################\n",
      "    Name  Age  Score        City\n",
      "0  Alice   25     85     NewYork\n",
      "1    Bob   30     70  Los_Angles\n",
      "######################\n",
      "   Age  Score\n",
      "0   25     85\n",
      "1   30     70\n",
      "2   22     90\n",
      "3   28     80\n",
      "4   19     75\n",
      "5   22     77\n",
      "6   27     82\n",
      "######################\n",
      "      Name        City\n",
      "0    Alice     NewYork\n",
      "1      Bob  Los_Angles\n",
      "2  Charlie   Frankfrut\n",
      "3    David      London\n",
      "4     Kari        Oslo\n",
      "5   Amilie   Barcelona\n",
      "6  Daminan   Frankfrut\n"
     ]
    }
   ],
   "source": [
    "print(df6['Name'])\n",
    "print('######################')\n",
    "print(df6[['Name',\"Score\"]])\n",
    "print('######################')\n",
    "print(df6[0:2])\n",
    "print('######################')\n",
    "print(df6.iloc[:,1:3]) #DataFrame.iloc[ row_selection , column_selection ]\n",
    "print('######################') \n",
    "print(df6.loc[:,['Name','City']])\n"
   ]
  },
  {
   "cell_type": "code",
   "execution_count": 74,
   "id": "294e933d-a1ba-4bae-b6e0-2167c2fb2e23",
   "metadata": {},
   "outputs": [
    {
     "data": {
      "text/html": [
       "<div>\n",
       "<style scoped>\n",
       "    .dataframe tbody tr th:only-of-type {\n",
       "        vertical-align: middle;\n",
       "    }\n",
       "\n",
       "    .dataframe tbody tr th {\n",
       "        vertical-align: top;\n",
       "    }\n",
       "\n",
       "    .dataframe thead th {\n",
       "        text-align: right;\n",
       "    }\n",
       "</style>\n",
       "<table border=\"1\" class=\"dataframe\">\n",
       "  <thead>\n",
       "    <tr style=\"text-align: right;\">\n",
       "      <th></th>\n",
       "      <th>First_name</th>\n",
       "      <th>Last_name</th>\n",
       "      <th>age</th>\n",
       "      <th>comedy_score</th>\n",
       "      <th>Rating_Score</th>\n",
       "    </tr>\n",
       "  </thead>\n",
       "  <tbody>\n",
       "    <tr>\n",
       "      <th>0</th>\n",
       "      <td>sheldon</td>\n",
       "      <td>Copper</td>\n",
       "      <td>42</td>\n",
       "      <td>9</td>\n",
       "      <td>25</td>\n",
       "    </tr>\n",
       "    <tr>\n",
       "      <th>1</th>\n",
       "      <td>Raj</td>\n",
       "      <td>Kootharapali</td>\n",
       "      <td>38</td>\n",
       "      <td>7</td>\n",
       "      <td>25</td>\n",
       "    </tr>\n",
       "    <tr>\n",
       "      <th>2</th>\n",
       "      <td>Leonard</td>\n",
       "      <td>Hofstder</td>\n",
       "      <td>36</td>\n",
       "      <td>8</td>\n",
       "      <td>49</td>\n",
       "    </tr>\n",
       "    <tr>\n",
       "      <th>3</th>\n",
       "      <td>Howard</td>\n",
       "      <td>Wolwitz</td>\n",
       "      <td>41</td>\n",
       "      <td>8</td>\n",
       "      <td>62</td>\n",
       "    </tr>\n",
       "    <tr>\n",
       "      <th>4</th>\n",
       "      <td>Amy</td>\n",
       "      <td>Fowler</td>\n",
       "      <td>35</td>\n",
       "      <td>5</td>\n",
       "      <td>70</td>\n",
       "    </tr>\n",
       "  </tbody>\n",
       "</table>\n",
       "</div>"
      ],
      "text/plain": [
       "  First_name     Last_name  age  comedy_score  Rating_Score\n",
       "0    sheldon        Copper   42             9            25\n",
       "1        Raj  Kootharapali   38             7            25\n",
       "2    Leonard      Hofstder   36             8            49\n",
       "3     Howard       Wolwitz   41             8            62\n",
       "4        Amy        Fowler   35             5            70"
      ]
     },
     "execution_count": 74,
     "metadata": {},
     "output_type": "execute_result"
    }
   ],
   "source": [
    "raw_data = {\"First_name\":['sheldon','Raj','Leonard','Howard','Amy'],\n",
    "             \"Last_name\":['Copper','Kootharapali','Hofstder','Wolwitz','Fowler'],\n",
    "           \"age\":[42,38,36,41,35],\n",
    "           \"comedy_score\":[9,7,8,8,5],\n",
    "           \"Rating_Score\":[25,25,49,62,70]}\n",
    "\n",
    "df = pd.DataFrame(raw_data)\n",
    "df"
   ]
  },
  {
   "cell_type": "code",
   "execution_count": 80,
   "id": "261f6b66-6e53-4be5-95f8-cd50b4ab0404",
   "metadata": {},
   "outputs": [
    {
     "name": "stdout",
     "output_type": "stream",
     "text": [
      "  First_name     Last_name  age  comedy_score  Rating_Score\n",
      "0    sheldon        Copper   42             9            25\n",
      "3     Howard       Wolwitz   41             8            62\n",
      "1        Raj  Kootharapali   38             7            25\n",
      "2    Leonard      Hofstder   36             8            49\n",
      "4        Amy        Fowler   35             5            70\n",
      "######################\n",
      "  First_name     Last_name  age  comedy_score  Rating_Score\n",
      "4        Amy        Fowler   35             5            70\n",
      "2    Leonard      Hofstder   36             8            49\n",
      "1        Raj  Kootharapali   38             7            25\n",
      "3     Howard       Wolwitz   41             8            62\n",
      "0    sheldon        Copper   42             9            25\n",
      "######################\n",
      "  First_name     Last_name  age  comedy_score  Rating_Score\n",
      "4        Amy        Fowler   35             5            70\n",
      "2    Leonard      Hofstder   36             8            49\n",
      "1        Raj  Kootharapali   38             7            25\n",
      "3     Howard       Wolwitz   41             8            62\n",
      "0    sheldon        Copper   42             9            25\n",
      "######################\n"
     ]
    }
   ],
   "source": [
    "print(df.sort_values(by=\"age\",ascending=0))\n",
    "print('######################')\n",
    "print(df.sort_values(by=\"age\",ascending=1))\n",
    "print('######################')\n",
    "print(df.sort_values(by=[\"age\",\"comedy_score\"]))\n",
    "print('######################')"
   ]
  },
  {
   "cell_type": "code",
   "execution_count": 83,
   "id": "a38441b7-5f43-408d-a9f1-90670997e37f",
   "metadata": {},
   "outputs": [
    {
     "name": "stdout",
     "output_type": "stream",
     "text": [
      "age\n",
      "35    1\n",
      "36    1\n",
      "38    1\n",
      "41    1\n",
      "42    1\n",
      "dtype: int64\n"
     ]
    }
   ],
   "source": [
    "g = df.groupby([\"age\"])\n",
    "print(g.size())"
   ]
  },
  {
   "cell_type": "code",
   "execution_count": 85,
   "id": "ab4afadc-da40-419d-8154-db78ad0e594f",
   "metadata": {},
   "outputs": [
    {
     "name": "stdout",
     "output_type": "stream",
     "text": [
      "index of largest value: 0\n",
      "index of largest value: 4\n"
     ]
    }
   ],
   "source": [
    "print(\"index of largest value:\",df['age'].idxmax())\n",
    "print(\"index of largest value:\",df['age'].idxmin())"
   ]
  },
  {
   "cell_type": "code",
   "execution_count": null,
   "id": "22516365-8fd7-4e9b-97c1-3cc458a31a43",
   "metadata": {},
   "outputs": [],
   "source": [
    "A = [1,2,3,4,5]\n",
    "B = [10,20,30,40,50]\n",
    "df = pd.DataFrame(list(zip(A,B)))\n",
    "df"
   ]
  }
 ],
 "metadata": {
  "kernelspec": {
   "display_name": "Python 3 (ipykernel)",
   "language": "python",
   "name": "python3"
  },
  "language_info": {
   "codemirror_mode": {
    "name": "ipython",
    "version": 3
   },
   "file_extension": ".py",
   "mimetype": "text/x-python",
   "name": "python",
   "nbconvert_exporter": "python",
   "pygments_lexer": "ipython3",
   "version": "3.13.7"
  }
 },
 "nbformat": 4,
 "nbformat_minor": 5
}
