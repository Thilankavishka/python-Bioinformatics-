{
 "cells": [
  {
   "cell_type": "code",
   "execution_count": 2,
   "id": "b6e9d0ad",
   "metadata": {},
   "outputs": [
    {
     "name": "stdout",
     "output_type": "stream",
     "text": [
      "hello world\n"
     ]
    }
   ],
   "source": [
    "print('hello world')"
   ]
  },
  {
   "cell_type": "code",
   "execution_count": 17,
   "id": "36f5ac7d",
   "metadata": {},
   "outputs": [],
   "source": [
    "a = 5\n",
    "b = \"hi\""
   ]
  },
  {
   "cell_type": "code",
   "execution_count": 18,
   "id": "4b3c9816",
   "metadata": {},
   "outputs": [
    {
     "name": "stdout",
     "output_type": "stream",
     "text": [
      "<class 'int'>\n",
      "<class 'str'>\n"
     ]
    }
   ],
   "source": [
    "print(type(a))\n",
    "print(type(b))"
   ]
  },
  {
   "cell_type": "code",
   "execution_count": 14,
   "id": "39d39839",
   "metadata": {},
   "outputs": [
    {
     "name": "stdout",
     "output_type": "stream",
     "text": [
      "Enter the number: 558\n",
      "Your Entered Number is: 558\n"
     ]
    }
   ],
   "source": [
    "x = int(input('Enter the number: '))\n",
    "print('Your Entered Number is:',x)"
   ]
  },
  {
   "cell_type": "code",
   "execution_count": 15,
   "id": "8340da2b",
   "metadata": {},
   "outputs": [
    {
     "name": "stdout",
     "output_type": "stream",
     "text": [
      "Enter the number 1: 5\n",
      "Enter the number 2: 6\n"
     ]
    }
   ],
   "source": [
    "x = int(input('Enter the number 1: '))\n",
    "y = int(input('Enter the number 2: '))"
   ]
  },
  {
   "cell_type": "code",
   "execution_count": 16,
   "id": "ad7fb72e",
   "metadata": {},
   "outputs": [
    {
     "name": "stdout",
     "output_type": "stream",
     "text": [
      "Multiplied values of your entered numbers: 30\n"
     ]
    }
   ],
   "source": [
    "mul = x*y\n",
    "sum = x+y\n",
    "print('Multiplied values of your entered numbers:',mul)"
   ]
  },
  {
   "cell_type": "code",
   "execution_count": 20,
   "id": "9dc8b494",
   "metadata": {},
   "outputs": [
    {
     "name": "stdout",
     "output_type": "stream",
     "text": [
      "the output is, 30\n"
     ]
    }
   ],
   "source": [
    "if mul > 1000:\n",
    "   print(f\"the output is,{sum} (because the mul is grater than 1000)\")\n",
    "else:\n",
    "    print(f\"the output is, {mul}\")"
   ]
  },
  {
   "cell_type": "code",
   "execution_count": 26,
   "id": "3ea7ef47",
   "metadata": {},
   "outputs": [
    {
     "name": "stdout",
     "output_type": "stream",
     "text": [
      "5\n"
     ]
    }
   ],
   "source": [
    "#using for loop (find the vowel count in the word)\n",
    "word = \"beautiful\"\n",
    "vowel = 'aeiou'\n",
    "vcount=0\n",
    "for i in word:\n",
    "    if i in vowel:\n",
    "        vcount+=1\n",
    "print(vcount)"
   ]
  },
  {
   "cell_type": "code",
   "execution_count": 30,
   "id": "e32caf60",
   "metadata": {},
   "outputs": [
    {
     "name": "stdout",
     "output_type": "stream",
     "text": [
      "5\n"
     ]
    }
   ],
   "source": [
    "#using for loop (find the vowel count in the word)\n",
    "word = \"beautiful\"\n",
    "vcount=0\n",
    "for x in word:\n",
    "    if x == 'i' or x == '0' or x == 'u' or x == 'a' or x == 'e':\n",
    "        vcount+=1\n",
    "print(vcount)"
   ]
  },
  {
   "cell_type": "code",
   "execution_count": 33,
   "id": "80309214",
   "metadata": {},
   "outputs": [
    {
     "name": "stdout",
     "output_type": "stream",
     "text": [
      "hi\n",
      "hello\n"
     ]
    }
   ],
   "source": [
    "# case sensitive\n",
    "WORD = 'hi'\n",
    "word = 'hello'\n",
    "print(WORD)\n",
    "print(word)"
   ]
  },
  {
   "cell_type": "code",
   "execution_count": 35,
   "id": "88cf49f9",
   "metadata": {},
   "outputs": [
    {
     "name": "stdout",
     "output_type": "stream",
     "text": [
      "Odd\n",
      "Even\n"
     ]
    }
   ],
   "source": [
    "#define a function\n",
    "def EvenOdd(x):\n",
    "    if (x % 2 == 0):\n",
    "        return \"Even\"\n",
    "    else:\n",
    "        return \"Odd\"\n",
    "    \n",
    "print(EvenOdd(5))\n",
    "print(EvenOdd(54))"
   ]
  },
  {
   "cell_type": "code",
   "execution_count": 36,
   "id": "22ed2ac6",
   "metadata": {},
   "outputs": [
    {
     "name": "stdout",
     "output_type": "stream",
     "text": [
      "1\n",
      "2\n",
      "3\n",
      "4\n",
      "5\n",
      "6\n",
      "7\n",
      "8\n",
      "9\n"
     ]
    }
   ],
   "source": [
    "#define while loop\n",
    "num = 1\n",
    "while num < 10:\n",
    "    print(num)\n",
    "    num = num + 1"
   ]
  },
  {
   "cell_type": "code",
   "execution_count": 38,
   "id": "98ae84f7",
   "metadata": {},
   "outputs": [
    {
     "name": "stdout",
     "output_type": "stream",
     "text": [
      "1\n",
      "2\n",
      "3\n"
     ]
    }
   ],
   "source": [
    "#define while loop and break\n",
    "num = 1\n",
    "while num < 10:\n",
    "    print(num)\n",
    "    if num == 3:\n",
    "       break\n",
    "    num = num + 1"
   ]
  },
  {
   "cell_type": "code",
   "execution_count": 42,
   "id": "2737d4e6",
   "metadata": {},
   "outputs": [
    {
     "name": "stdout",
     "output_type": "stream",
     "text": [
      "*\n",
      "**\n",
      "***\n",
      "****\n",
      "*****\n"
     ]
    }
   ],
   "source": [
    "#print a pattern\n",
    "star = 6\n",
    "for i in range(1,star):\n",
    "    print(i* '*')"
   ]
  },
  {
   "cell_type": "code",
   "execution_count": 56,
   "id": "7b4d1c67",
   "metadata": {},
   "outputs": [
    {
     "name": "stdout",
     "output_type": "stream",
     "text": [
      "      * \n",
      "     * * \n",
      "    * * * \n",
      "   * * * * \n",
      "  * * * * * \n",
      " * * * * * * \n",
      "* * * * * * * \n"
     ]
    }
   ],
   "source": [
    "rows = 7\n",
    "for i in range(1, rows + 1):\n",
    "    spaces = ' ' * (rows - i)\n",
    "    stars = '* ' * (1 * i)\n",
    "    print(spaces + stars)"
   ]
  },
  {
   "cell_type": "code",
   "execution_count": 85,
   "id": "57027b03",
   "metadata": {},
   "outputs": [
    {
     "name": "stdout",
     "output_type": "stream",
     "text": [
      "1 2 3 4 5 6 7 8 9 \b\n",
      "2 4 6 8 10 12 14 16 18 \b\n",
      "3 6 9 12 15 18 21 24 27 \b\n",
      "4 8 12 16 20 24 28 32 36 \b\n",
      "5 10 15 20 25 30 35 40 45 \b\n",
      "6 12 18 24 30 36 42 48 54 \b\n",
      "7 14 21 28 35 42 49 56 63 \b\n",
      "8 16 24 32 40 48 56 64 72 \b\n",
      "9 18 27 36 45 54 63 72 81 \b\n"
     ]
    }
   ],
   "source": [
    "#print the multiplication table\n",
    "num = 10\n",
    "ran = 1\n",
    "for i in range(1,num):\n",
    "    for x in range(1,num):\n",
    "       print(x * i, end = \" \")\n",
    "    print('\\b')"
   ]
  },
  {
   "cell_type": "code",
   "execution_count": 86,
   "id": "f90940bc",
   "metadata": {},
   "outputs": [
    {
     "name": "stdout",
     "output_type": "stream",
     "text": [
      "15\n"
     ]
    }
   ],
   "source": [
    "#count the number of A,T,G,C NUCLEOTIDES in this DNA = \"ATGCGATACGCTTGA\" Sequence\n",
    "dna = \"ATGCGATACGCTTGA\"\n",
    "count = 0\n",
    "for i in dna:\n",
    "  if i == \"A\" or i == \"T\" or  i == \"G\" or i == \"C\":\n",
    "      count += 1\n",
    "print(count)\n",
    "\n",
    "\n"
   ]
  },
  {
   "cell_type": "code",
   "execution_count": null,
   "id": "478fa0ef",
   "metadata": {},
   "outputs": [],
   "source": []
  },
  {
   "cell_type": "code",
   "execution_count": null,
   "id": "b02f3dad",
   "metadata": {},
   "outputs": [],
   "source": []
  }
 ],
 "metadata": {
  "kernelspec": {
   "display_name": "Python 3 (ipykernel)",
   "language": "python",
   "name": "python3"
  },
  "language_info": {
   "codemirror_mode": {
    "name": "ipython",
    "version": 3
   },
   "file_extension": ".py",
   "mimetype": "text/x-python",
   "name": "python",
   "nbconvert_exporter": "python",
   "pygments_lexer": "ipython3",
   "version": "3.9.13"
  }
 },
 "nbformat": 4,
 "nbformat_minor": 5
}
